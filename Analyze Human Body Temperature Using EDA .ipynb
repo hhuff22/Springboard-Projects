{
 "cells": [
  {
   "cell_type": "markdown",
   "metadata": {},
   "source": [
    "# What is the True Normal Human Body Temperature? \n",
    "\n",
    "#### Background\n",
    "\n",
    "The mean normal body temperature was held to be 37$^{\\circ}$C or 98.6$^{\\circ}$F for more than 120 years since it was first conceptualized and reported by Carl Wunderlich in a famous 1868 book. But, is this value statistically correct?"
   ]
  },
  {
   "cell_type": "markdown",
   "metadata": {},
   "source": [
    "<h3>Exercises</h3>\n",
    "\n",
    "<p>In this exercise, you will analyze a dataset of human body temperatures and employ the concepts of hypothesis testing, confidence intervals, and statistical significance.</p>\n",
    "\n",
    "<p>Answer the following questions <b>in this notebook below and submit to your Github account</b>.</p> \n",
    "\n",
    "<ol>\n",
    "<li>  Is the distribution of body temperatures normal? \n",
    "    <ul>\n",
    "    <li> Although this is not a requirement for the Central Limit Theorem to hold (read the introduction on Wikipedia's page about the CLT carefully: https://en.wikipedia.org/wiki/Central_limit_theorem), it gives us some peace of mind that the population may also be normally distributed if we assume that this sample is representative of the population.\n",
    "    <li> Think about the way you're going to check for the normality of the distribution. Graphical methods are usually used first, but there are also other ways: https://en.wikipedia.org/wiki/Normality_test\n",
    "    </ul>\n",
    "<li>  Is the sample size large? Are the observations independent?\n",
    "    <ul>\n",
    "    <li> Remember that this is a condition for the Central Limit Theorem, and hence the statistical tests we are using, to apply.\n",
    "    </ul>\n",
    "<li>  Is the true population mean really 98.6 degrees F?\n",
    "    <ul>\n",
    "    <li> First, try a bootstrap hypothesis test.\n",
    "    <li> Now, let's try frequentist statistical testing. Would you use a one-sample or two-sample test? Why?\n",
    "    <li> In this situation, is it appropriate to use the $t$ or $z$ statistic? \n",
    "    <li> Now try using the other test. How is the result be different? Why?\n",
    "    </ul>\n",
    "<li>  Draw a small sample of size 10 from the data and repeat both frequentist tests. \n",
    "    <ul>\n",
    "    <li> Which one is the correct one to use? \n",
    "    <li> What do you notice? What does this tell you about the difference in application of the $t$ and $z$ statistic?\n",
    "    </ul>\n",
    "<li>  At what temperature should we consider someone's temperature to be \"abnormal\"?\n",
    "    <ul>\n",
    "    <li> As in the previous example, try calculating everything using the boostrap approach, as well as the frequentist approach.\n",
    "    <li> Start by computing the margin of error and confidence interval. When calculating the confidence interval, keep in mind that you should use the appropriate formula for one draw, and not N draws.\n",
    "    </ul>\n",
    "<li>  Is there a significant difference between males and females in normal temperature?\n",
    "    <ul>\n",
    "    <li> What testing approach did you use and why?\n",
    "    <li> Write a story with your conclusion in the context of the original problem.\n",
    "    </ul>\n",
    "</ol>\n",
    "\n",
    "You can include written notes in notebook cells using Markdown: \n",
    "   - In the control panel at the top, choose Cell > Cell Type > Markdown\n",
    "   - Markdown syntax: http://nestacms.com/docs/creating-content/markdown-cheat-sheet\n",
    "\n",
    "#### Resources\n",
    "\n",
    "+ Information and data sources: http://www.amstat.org/publications/jse/datasets/normtemp.txt, http://www.amstat.org/publications/jse/jse_data_archive.htm\n",
    "+ Markdown syntax: http://nestacms.com/docs/creating-content/markdown-cheat-sheet\n",
    "\n",
    "****"
   ]
  },
  {
   "cell_type": "code",
   "execution_count": 16,
   "metadata": {},
   "outputs": [],
   "source": [
    "import pandas as pd\n",
    "import matplotlib.pyplot as plt\n",
    "from scipy import stats\n",
    "import numpy as np\n",
    "\n",
    "\n",
    "\n",
    "df = pd.read_csv('data/human_body_temperature.csv')"
   ]
  },
  {
   "cell_type": "code",
   "execution_count": 17,
   "metadata": {
    "scrolled": true
   },
   "outputs": [
    {
     "data": {
      "text/html": [
       "<div>\n",
       "<style scoped>\n",
       "    .dataframe tbody tr th:only-of-type {\n",
       "        vertical-align: middle;\n",
       "    }\n",
       "\n",
       "    .dataframe tbody tr th {\n",
       "        vertical-align: top;\n",
       "    }\n",
       "\n",
       "    .dataframe thead th {\n",
       "        text-align: right;\n",
       "    }\n",
       "</style>\n",
       "<table border=\"1\" class=\"dataframe\">\n",
       "  <thead>\n",
       "    <tr style=\"text-align: right;\">\n",
       "      <th></th>\n",
       "      <th>temperature</th>\n",
       "      <th>gender</th>\n",
       "      <th>heart_rate</th>\n",
       "    </tr>\n",
       "  </thead>\n",
       "  <tbody>\n",
       "    <tr>\n",
       "      <th>125</th>\n",
       "      <td>96.3</td>\n",
       "      <td>M</td>\n",
       "      <td>70.0</td>\n",
       "    </tr>\n",
       "    <tr>\n",
       "      <th>39</th>\n",
       "      <td>96.4</td>\n",
       "      <td>F</td>\n",
       "      <td>69.0</td>\n",
       "    </tr>\n",
       "    <tr>\n",
       "      <th>11</th>\n",
       "      <td>96.7</td>\n",
       "      <td>F</td>\n",
       "      <td>62.0</td>\n",
       "    </tr>\n",
       "    <tr>\n",
       "      <th>105</th>\n",
       "      <td>96.7</td>\n",
       "      <td>M</td>\n",
       "      <td>71.0</td>\n",
       "    </tr>\n",
       "    <tr>\n",
       "      <th>95</th>\n",
       "      <td>96.8</td>\n",
       "      <td>F</td>\n",
       "      <td>75.0</td>\n",
       "    </tr>\n",
       "  </tbody>\n",
       "</table>\n",
       "</div>"
      ],
      "text/plain": [
       "     temperature gender  heart_rate\n",
       "125         96.3      M        70.0\n",
       "39          96.4      F        69.0\n",
       "11          96.7      F        62.0\n",
       "105         96.7      M        71.0\n",
       "95          96.8      F        75.0"
      ]
     },
     "execution_count": 17,
     "metadata": {},
     "output_type": "execute_result"
    }
   ],
   "source": [
    "# Display the dataframe\n",
    "df = df.sort_values(\"temperature\")\n",
    "df.head()"
   ]
  },
  {
   "cell_type": "code",
   "execution_count": 18,
   "metadata": {},
   "outputs": [
    {
     "data": {
      "image/png": "[encoded data removed]",
      "text/plain": [
       "<Figure size 432x288 with 1 Axes>"
      ]
     },
     "metadata": {
      "needs_background": "light"
     },
     "output_type": "display_data"
    }
   ],
   "source": [
    "# (1) \n",
    "\n",
    "# A histogram of temperature data shows a normal distribution\n",
    "plt.hist(df[\"temperature\"], bins=8)\n",
    "plt.xlabel(\"Temperature (F)\", color=\"red\")\n",
    "plt.ylabel(\"Frequency\", color=\"red\")\n",
    "plt.show()"
   ]
  },
  {
   "cell_type": "code",
   "execution_count": 19,
   "metadata": {},
   "outputs": [
    {
     "data": {
      "image/png": "[encoded data removed]",
      "text/plain": [
       "<Figure size 432x288 with 1 Axes>"
      ]
     },
     "metadata": {
      "needs_background": "light"
     },
     "output_type": "display_data"
    }
   ],
   "source": [
    "# (1) \n",
    "\n",
    "# A normal probability plot of temperature data shows a good fit of the data to normal quantiles\n",
    "stats.probplot(df[\"temperature\"], dist=\"norm\", plot=plt)\n",
    "plt.show()"
   ]
  },
  {
   "cell_type": "code",
   "execution_count": 20,
   "metadata": {},
   "outputs": [],
   "source": [
    "# (2) \n",
    "\n",
    "# Because the sample size has an approximately normal distribution,\n",
    "# we know the sample size is large enough to make statistical inference about the population."
   ]
  },
  {
   "cell_type": "code",
   "execution_count": 21,
   "metadata": {},
   "outputs": [],
   "source": [
    "# (2)\n",
    "\n",
    "# The observations are considered independent because the sample size of 130 is less than 10% of the human population,\n",
    "# thus our results are not affected by lack of replacement"
   ]
  },
  {
   "cell_type": "code",
   "execution_count": 22,
   "metadata": {},
   "outputs": [
    {
     "name": "stdout",
     "output_type": "stream",
     "text": [
      "0.0\n"
     ]
    }
   ],
   "source": [
    "# (3)\n",
    "\n",
    "# Functions to draw bootstrap replicates\n",
    "def bootstrap_replicate_1d(data, func):\n",
    "    return func(np.random.choice(data, size=len(data)))\n",
    "\n",
    "def draw_bs_reps(data, func, size=1):\n",
    "    bs_replicates = np.empty(size)\n",
    "    for i in range(size):\n",
    "        bs_replicates[i] = bootstrap_replicate_1d(data,func)\n",
    "    return bs_replicates\n",
    "\n",
    "#Shift the temperature data to match the null hypothesis that the mean is 98.6\n",
    "sample_temp = df[\"temperature\"]\n",
    "translated_sample_temp = sample_temp - np.mean(sample_temp) + 98.6\n",
    "\n",
    "# Draw bootstrap replicates of the data\n",
    "bs_reps = draw_bs_reps(translated_sample_temp, np.mean, 10000)\n",
    "\n",
    "# Calculate the p value\n",
    "p = np.sum(bs_reps <= np.mean(sample_temp)) / 10000\n",
    "\n",
    "# print p\n",
    "print(p)\n",
    "\n",
    "# The p value is 0, indicating that we'd reject the null hypothesis that the sample mean is the same as the known mean"
   ]
  },
  {
   "cell_type": "code",
   "execution_count": 23,
   "metadata": {},
   "outputs": [
    {
     "data": {
      "text/plain": [
       "Ttest_1sampResult(statistic=-5.454823292364077, pvalue=2.410632041561008e-07)"
      ]
     },
     "execution_count": 23,
     "metadata": {},
     "output_type": "execute_result"
    }
   ],
   "source": [
    "# (3)\n",
    "\n",
    "# This would be a one-sample test because we are comparing the mean of our one sample to a known mean\n",
    "\n",
    "# It is most appropriate the use the t test because the population standard deviation is not known\n",
    "# and results of a z and t test are nearly identical above a sample size of 30\n",
    "\n",
    "# Calculate the t statistic and p-value\n",
    "stats.ttest_1samp(sample_temp, 98.6)\n",
    "\n",
    "# A very small p value indicates we should reject the null hypothesis that the sample mean the same as the known mean\n",
    "# This result is different from the bootstrap test in that we get an extremely small value for p; \n",
    "# whereas we get a p of 0 with the bootstrap test"
   ]
  },
  {
   "cell_type": "code",
   "execution_count": 24,
   "metadata": {},
   "outputs": [
    {
     "name": "stdout",
     "output_type": "stream",
     "text": [
      "-5.475925202078339\n",
      "2.1761575829383514e-08\n"
     ]
    }
   ],
   "source": [
    "# (3)\n",
    "\n",
    "# Calculate the z-statistic\n",
    "z = (np.mean(sample_temp) - 98.6) / (np.sqrt(np.var(sample_temp)/130))\n",
    "\n",
    "p_value = stats.norm.sf(abs(z))\n",
    "\n",
    "print(z)\n",
    "print(p_value)\n",
    "\n",
    "# The z test gives us an extremely small p value, resulting in rejecting the null hypothesis\n",
    "# The results are different in that the p value for the z score is smaller by a factor of 10\n",
    "# This is because the z test assumes you know the standard deviation of the population"
   ]
  },
  {
   "cell_type": "code",
   "execution_count": 25,
   "metadata": {},
   "outputs": [
    {
     "data": {
      "text/plain": [
       "Ttest_1sampResult(statistic=-1.184885474765857, pvalue=0.26640661268883054)"
      ]
     },
     "execution_count": 25,
     "metadata": {},
     "output_type": "execute_result"
    }
   ],
   "source": [
    "# (4)\n",
    "\n",
    "# Draw a sample size of 10\n",
    "small_sample = np.random.choice(sample_temp, size=10)\n",
    "\n",
    "# Repeat the t test\n",
    "stats.ttest_1samp(small_sample, 98.6)"
   ]
  },
  {
   "cell_type": "code",
   "execution_count": 26,
   "metadata": {},
   "outputs": [
    {
     "name": "stdout",
     "output_type": "stream",
     "text": [
      "-1.2489789555700244\n",
      "0.10583638552726093\n"
     ]
    }
   ],
   "source": [
    "# (4)\n",
    "\n",
    "# Repeat the z test\n",
    "z_small = (np.mean(small_sample) - 98.6) / (np.sqrt(np.var(small_sample)/10))\n",
    "p_small = stats.norm.sf(abs(z_small))\n",
    "print(z_small)\n",
    "print(p_small)"
   ]
  },
  {
   "cell_type": "code",
   "execution_count": 27,
   "metadata": {},
   "outputs": [],
   "source": [
    "# (4)\n",
    "\n",
    "# The t test is appropriate to use for the small sample\n",
    "# The z test results in a larger p value, which increases the chances of making a type I error\n",
    "# This supports that the t test is the best test for sample sizes less than 30"
   ]
  },
  {
   "cell_type": "code",
   "execution_count": 28,
   "metadata": {},
   "outputs": [
    {
     "name": "stdout",
     "output_type": "stream",
     "text": [
      "[98.12307692 98.37461538]\n"
     ]
    }
   ],
   "source": [
    "# (5)\n",
    "\n",
    "# Draw bootstrap replicates\n",
    "bs_reps2 = draw_bs_reps(sample_temp, np.mean, 10000)\n",
    "\n",
    "# Bootstrap confidence interval\n",
    "bs_ci = np.percentile(bs_reps2,[2.5,97.5])\n",
    "print(bs_ci)\n",
    "\n",
    "# The 95% confidence interval tells us that a temperature is abnormal when outside the range of 98.12 to 98.38 F"
   ]
  },
  {
   "cell_type": "code",
   "execution_count": 29,
   "metadata": {},
   "outputs": [
    {
     "name": "stdout",
     "output_type": "stream",
     "text": [
      "0.12555096480257896\n",
      "The 95% confidence interval is 98.12367980442818 98.37478173403335\n"
     ]
    }
   ],
   "source": [
    "# (5)\n",
    "\n",
    "# 95% margin of error\n",
    "moe = 1.96 * np.sqrt(np.var(sample_temp)/130)\n",
    "print(moe)\n",
    "\n",
    "# 95% Confidence interval\n",
    "ci_low = np.mean(sample_temp) - moe\n",
    "ci_high = np.mean(sample_temp) + moe\n",
    "print(\"The 95% confidence interval is \" + str(ci_low) + \" \" + str(ci_high))"
   ]
  },
  {
   "cell_type": "code",
   "execution_count": 30,
   "metadata": {},
   "outputs": [
    {
     "data": {
      "text/plain": [
       "0.0138"
      ]
     },
     "execution_count": 30,
     "metadata": {},
     "output_type": "execute_result"
    }
   ],
   "source": [
    "# (6)\n",
    "\n",
    "\n",
    "# Function to generate permutation samples\n",
    "def permutation_sample(data1, data2):\n",
    "    \"\"\"Generate a permutation sample from two data sets.\"\"\"\n",
    "\n",
    "    # Concatenate the data sets: data\n",
    "    data = np.concatenate((data1,data2))\n",
    "\n",
    "    # Permute the concatenated array: permuted_data\n",
    "    permuted_data = np.random.permutation(data)\n",
    "\n",
    "    # Split the permuted array into two: perm_sample_1, perm_sample_2\n",
    "    perm_sample_1 = permuted_data[:len(data1)]\n",
    "    perm_sample_2 = permuted_data[len(data1):]\n",
    "\n",
    "    return perm_sample_1, perm_sample_2\n",
    "\n",
    "# Function to draw permutation replicates\n",
    "def draw_perm_reps(data_1, data_2, func, size=1):\n",
    "\n",
    "    # Initialize array of replicates: perm_replicates\n",
    "    perm_replicates = np.empty(size)\n",
    "\n",
    "    for i in range(size):\n",
    "        # Generate permutation sample\n",
    "        perm_sample_1, perm_sample_2 = permutation_sample(data_1,data_2)\n",
    "\n",
    "        # Compute the test statistic\n",
    "        perm_replicates[i] = func(perm_sample_1, perm_sample_2)\n",
    "\n",
    "    return perm_replicates\n",
    "\n",
    "# Function to calculate the difference of means between two arrays\n",
    "def diff_of_means(data_1, data_2):\n",
    "\n",
    "    # The difference of means of data_1, data_2: diff\n",
    "    diff = np.mean(data_1) - np.mean(data_2)\n",
    "\n",
    "    return diff\n",
    "\n",
    "# Find the difference of means betwen men's and women's mean temperature\n",
    "temp_men = df[\"temperature\"].loc[df[\"gender\"] == \"M\"]\n",
    "temp_women = df[\"temperature\"].loc[df[\"gender\"] == \"F\"]\n",
    "observed_diff_means = diff_of_means(temp_women, temp_men)\n",
    "\n",
    "# Create permutation replicates and calculate their difference of means\n",
    "perm_replicates = draw_perm_reps(temp_women, temp_men,\n",
    "                                 diff_of_means, size=10000)\n",
    "\n",
    "# Compute the p value\n",
    "p = np.sum(perm_replicates >= observed_diff_means) / len(perm_replicates)\n",
    "p"
   ]
  },
  {
   "cell_type": "code",
   "execution_count": 31,
   "metadata": {},
   "outputs": [],
   "source": [
    "# (6)\n",
    "\n",
    "# To test the hypothesis that the mean body temperature is the same between men and women I used perumation replicates.\n",
    "# With a p value of <5%, we reject the null hypothesis that the average temperature of women and men are equal.\n",
    "# Is it very improbably to observe a difference of means that is equal to or greater than the observed difference\n",
    "# in means if the average temperature were equal"
   ]
  },
  {
   "cell_type": "code",
   "execution_count": null,
   "metadata": {},
   "outputs": [],
   "source": []
  }
 ],
 "metadata": {
  "kernelspec": {
   "display_name": "Python 3",
   "language": "python",
   "name": "python3"
  },
  "language_info": {
   "codemirror_mode": {
    "name": "ipython",
    "version": 3
   },
   "file_extension": ".py",
   "mimetype": "text/x-python",
   "name": "python",
   "nbconvert_exporter": "python",
   "pygments_lexer": "ipython3",
   "version": "3.7.1"
  }
 },
 "nbformat": 4,
 "nbformat_minor": 1
}
